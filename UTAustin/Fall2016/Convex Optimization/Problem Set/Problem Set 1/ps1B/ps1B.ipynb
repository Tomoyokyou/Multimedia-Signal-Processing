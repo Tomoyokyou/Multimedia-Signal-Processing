{
 "cells": [
  {
   "cell_type": "code",
   "execution_count": 1,
   "metadata": {
    "collapsed": true
   },
   "outputs": [],
   "source": [
    "import numpy as np"
   ]
  },
  {
   "cell_type": "code",
   "execution_count": 42,
   "metadata": {
    "collapsed": false
   },
   "outputs": [],
   "source": [
    "n = 100\n",
    "A = np.random.randn(100,100)\n",
    "U,R = np.linalg.qr(A)\n",
    "Sigma1 = np.diag(np.ones(n))\n",
    "Sigma2 = np.diag(np.append(np.ones(n/2),0.01*np.ones(n/2)))\n",
    "Sigma3 = np.diag(np.append(100*np.ones(10),np.ones(n-10)))\n",
    "X1 = np.dot(U,np.dot(Sigma1,U.T))\n",
    "X2 = np.dot(U,np.dot(Sigma2,U.T))\n",
    "X3 = np.dot(U,np.dot(Sigma3,U.T))\n",
    "b1 = np.ones(n);\n",
    "b2 = np.ones(n);\n",
    "b3 = np.ones(n);"
   ]
  },
  {
   "cell_type": "code",
   "execution_count": null,
   "metadata": {
    "collapsed": true
   },
   "outputs": [],
   "source": []
  }
 ],
 "metadata": {
  "kernelspec": {
   "display_name": "Python 2",
   "language": "python",
   "name": "python2"
  },
  "language_info": {
   "codemirror_mode": {
    "name": "ipython",
    "version": 2
   },
   "file_extension": ".py",
   "mimetype": "text/x-python",
   "name": "python",
   "nbconvert_exporter": "python",
   "pygments_lexer": "ipython2",
   "version": "2.7.11"
  }
 },
 "nbformat": 4,
 "nbformat_minor": 0
}
